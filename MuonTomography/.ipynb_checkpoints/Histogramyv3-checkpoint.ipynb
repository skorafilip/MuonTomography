{
 "cells": [
  {
   "cell_type": "code",
   "execution_count": 11,
   "metadata": {},
   "outputs": [
    {
     "name": "stdout",
     "output_type": "stream",
     "text": [
      "         x           y\n",
      "0      0.0   -0.235232\n",
      "1      0.0   -0.891711\n",
      "2      0.0    4.646370\n",
      "3      0.0    4.639190\n",
      "4      0.0   23.584100\n",
      "5      0.0    4.442900\n",
      "6      0.0   -0.754281\n",
      "7      0.0    0.897748\n",
      "8      0.0   35.874800\n",
      "9      0.0    7.447690\n",
      "10     0.0    1.368240\n",
      "11     0.0  -10.231700\n",
      "12     0.0    4.365780\n",
      "13     0.0    1.036450\n",
      "14     0.0    5.843430\n",
      "15     0.0  -15.102400\n",
      "16     0.0    9.165260\n",
      "17     0.0    4.329910\n",
      "18     0.0   21.764100\n",
      "19     0.0   10.943100\n",
      "20     0.0    9.832620\n",
      "21     0.0   -0.068201\n",
      "22     0.0    3.374740\n",
      "23     0.0    4.719850\n",
      "24     0.0  -29.449500\n",
      "25     0.0    3.260190\n",
      "26     0.0    3.359020\n",
      "27     0.0    8.471330\n",
      "28     0.0    3.932500\n",
      "29     0.0    4.238970\n",
      "...    ...         ...\n",
      "99970  9.0    5.354340\n",
      "99971  9.0    3.589710\n",
      "99972  9.0    4.344160\n",
      "99973  9.0    8.296470\n",
      "99974  9.0   13.708500\n",
      "99975  9.0   14.618100\n",
      "99976  9.0    3.457520\n",
      "99977  9.0   -0.046998\n",
      "99978  9.0    5.400380\n",
      "99979  9.0  -17.061400\n",
      "99980  9.0    6.864540\n",
      "99981  9.0    5.198580\n",
      "99982  9.0    5.501930\n",
      "99983  9.0    5.669020\n",
      "99984  9.0   -3.737500\n",
      "99985  9.0  252.969000\n",
      "99986  9.0    4.643050\n",
      "99987  9.0   25.341200\n",
      "99988  9.0    2.343630\n",
      "99989  9.0    4.106340\n",
      "99990  9.0   13.411700\n",
      "99991  9.0    3.890560\n",
      "99992  9.0    4.872090\n",
      "99993  9.0    6.061130\n",
      "99994  9.0    4.129660\n",
      "99995  9.0    4.944400\n",
      "99996  9.0    7.498200\n",
      "99997  9.0    4.355720\n",
      "99998  9.0  -20.742400\n",
      "99999  9.0    0.771321\n",
      "\n",
      "[100000 rows x 2 columns]\n"
     ]
    }
   ],
   "source": [
    "import pandas as pd\n",
    "import matplotlib.pyplot as plt\n",
    "%matplotlib inline\n",
    "x = []\n",
    "y = []\n",
    "\n",
    "with open(\"outputfile.dat\", \"r\") as file:   \n",
    "    for line in file:\n",
    "        split = line.split('\\t')\n",
    "        x.append(float(split[0]))\n",
    "        y.append(float(split[1]))\n",
    "file.close()\n",
    "signal = pd.DataFrame(\n",
    "    {'x': x,\n",
    "     'y': y,\n",
    "    })\n",
    "print(signal)\n",
    "\n"
   ]
  },
  {
   "cell_type": "code",
   "execution_count": 12,
   "metadata": {},
   "outputs": [
    {
     "data": {
      "image/png": "[encoded data removed]",
      "text/plain": [
       "<Figure size 432x288 with 1 Axes>"
      ]
     },
     "metadata": {
      "needs_background": "light"
     },
     "output_type": "display_data"
    }
   ],
   "source": [
    "plt.figure()\n",
    "plt.hist2d(signal['x'],signal['y'],\n",
    "          bins=100,  cmap=plt.cm.jet, range = [[0,10],[-10,20]],)\n",
    "plt.savefig(fname = \"histogram2d.png\", dpi = 1000,)\n",
    "plt.show()"
   ]
  }
 ],
 "metadata": {
  "kernelspec": {
   "display_name": "Python 3",
   "language": "python",
   "name": "python3"
  },
  "language_info": {
   "codemirror_mode": {
    "name": "ipython",
    "version": 3
   },
   "file_extension": ".py",
   "mimetype": "text/x-python",
   "name": "python",
   "nbconvert_exporter": "python",
   "pygments_lexer": "ipython3",
   "version": "3.7.1"
  }
 },
 "nbformat": 4,
 "nbformat_minor": 2
}
